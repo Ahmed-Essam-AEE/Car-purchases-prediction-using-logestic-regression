{
 "cells": [
  {
   "cell_type": "markdown",
   "metadata": {},
   "source": [
    "# importing Libraries"
   ]
  },
  {
   "cell_type": "code",
   "execution_count": 4,
   "metadata": {},
   "outputs": [],
   "source": [
    "import numpy as np\n",
    "import pandas as pd\n",
    "import matplotlib.pyplot as plt\n",
    "import seaborn as sns\n",
    "from sklearn.model_selection import train_test_split\n"
   ]
  },
  {
   "cell_type": "markdown",
   "metadata": {},
   "source": [
    "# Reading dataset and null check"
   ]
  },
  {
   "cell_type": "code",
   "execution_count": 5,
   "metadata": {},
   "outputs": [
    {
     "name": "stdout",
     "output_type": "stream",
     "text": [
      "<class 'pandas.core.frame.DataFrame'>\n",
      "RangeIndex: 400 entries, 0 to 399\n",
      "Data columns (total 3 columns):\n",
      " #   Column     Non-Null Count  Dtype\n",
      "---  ------     --------------  -----\n",
      " 0   age        400 non-null    int64\n",
      " 1   salary     400 non-null    int64\n",
      " 2   purchased  400 non-null    int64\n",
      "dtypes: int64(3)\n",
      "memory usage: 9.5 KB\n"
     ]
    }
   ],
   "source": [
    "data = pd.read_csv(\"customer_data.csv\")\n",
    "#print(data)\n",
    "#print(f\"null values: {data.isnull().sum()}\")\n",
    "data.info()"
   ]
  },
  {
   "cell_type": "markdown",
   "metadata": {},
   "source": [
    "# Normalizing features using minmax normalization "
   ]
  },
  {
   "cell_type": "code",
   "execution_count": 6,
   "metadata": {},
   "outputs": [
    {
     "name": "stdout",
     "output_type": "stream",
     "text": [
      "          age    salary  purchased\n",
      "0    0.619048  0.177778        0.0\n",
      "1    0.333333  0.777778        1.0\n",
      "2    0.476190  0.259259        0.0\n",
      "3    0.333333  0.888889        1.0\n",
      "4    0.809524  0.044444        1.0\n",
      "..        ...       ...        ...\n",
      "395  0.214286  0.600000        1.0\n",
      "396  0.119048  0.355556        0.0\n",
      "397  0.714286  0.133333        1.0\n",
      "398  0.714286  0.555556        1.0\n",
      "399  0.571429  0.659259        1.0\n",
      "\n",
      "[400 rows x 3 columns]\n"
     ]
    }
   ],
   "source": [
    "z = (data - data.min()) / (data.max() - data.min())\n",
    "print(z)"
   ]
  },
  {
   "attachments": {},
   "cell_type": "markdown",
   "metadata": {},
   "source": [
    "# Correlation between features"
   ]
  },
  {
   "cell_type": "code",
   "execution_count": 7,
   "metadata": {},
   "outputs": [
    {
     "name": "stdout",
     "output_type": "stream",
     "text": [
      "salary       0.362083\n",
      "age          0.622454\n",
      "purchased    1.000000\n",
      "Name: purchased, dtype: float64\n"
     ]
    },
    {
     "data": {
      "image/png": "[encoded data removed]",
      "text/plain": [
       "<Figure size 432x288 with 2 Axes>"
      ]
     },
     "metadata": {
      "needs_background": "light"
     },
     "output_type": "display_data"
    }
   ],
   "source": [
    "corr1=data.corr()['purchased']\n",
    "print(corr1.sort_values())\n",
    "corr=data.corr()\n",
    "sns.heatmap(corr,annot=True)\n",
    "plt.title('Correlation Matrix', fontsize=16);\n",
    "plt.show()"
   ]
  },
  {
   "cell_type": "markdown",
   "metadata": {},
   "source": [
    "# Spliting data into 75% train and 25% test"
   ]
  },
  {
   "cell_type": "code",
   "execution_count": 8,
   "metadata": {},
   "outputs": [],
   "source": [
    "X = z.drop(columns=['purchased'])\n",
    "Y = z['purchased']\n",
    "#print(X)\n",
    "#print(Y)\n",
    "x_train, x_test, y_train, y_test = train_test_split(X, Y, test_size=0.25, random_state=None)"
   ]
  },
  {
   "cell_type": "markdown",
   "metadata": {},
   "source": [
    "# Implementating Logistic regression"
   ]
  },
  {
   "cell_type": "code",
   "execution_count": 32,
   "metadata": {},
   "outputs": [],
   "source": [
    "class LogisticRegressionFromScratch():\n",
    "\n",
    "    def fit(self ,x ,y , alpha , epochs=100):\n",
    "        self.inter= np.ones((x.shape[0], 1))\n",
    "        self.x_train = np.concatenate((self.inter, x), axis=1)\n",
    "        self.y_train = y\n",
    "        self.weight = np.zeros(self.x_train.shape[1])\n",
    "        self.alpha = alpha\n",
    "        self.epochs = epochs\n",
    "        for i in range(self.epochs):\n",
    "            z= self.sigmoid(self.x_train , self.weight)\n",
    "            #self.loss(z  ,self.y_train)\n",
    "            dw= self.gradientDescent(self.x_train , self.y_train , z)\n",
    "            self.weight = self.weight - alpha * dw\n",
    "        return self\n",
    "\n",
    "\n",
    "    def predict(self , nx , lamda):\n",
    "        nx = np.concatenate( (self.inter , nx ), axis=1)\n",
    "        res = self.sigmoid(nx , self.weight)\n",
    "        res = res >= lamda\n",
    "        y_pred = np.zeros(res.shape[0])\n",
    "        for i in range(len(y_pred)):\n",
    "            if res[i] == True: \n",
    "                y_pred[i] = 1\n",
    "            else:\n",
    "                continue\n",
    "                 \n",
    "        return y_pred\n",
    "\n",
    "\n",
    "\n",
    "    def sigmoid(self , x , weight):\n",
    "        \n",
    "        return 1.0/(1+np.exp(-np.dot(x , weight)))\n",
    "\n",
    "    def costFunction(y , hx):\n",
    "        return -1* (np.sum(y*np.log(hx) + (1-y) * np.log(1-hx)))\n",
    "\n",
    "    def gradientDescent(self , x , y , hx):\n",
    "         return np.dot(x.T, (hx - y)) / y.shape[0]\n",
    "    \n",
    "    def loss(self, hx, y):\n",
    "        return (-y * np.log(hx) - (1 - y) * np.log(1 - hx)).mean()\n",
    "        \n",
    "    def accuracy(y , hx):\n",
    "        return np.sum(y==hx) / len(y)\n",
    "\n"
   ]
  },
  {
   "attachments": {},
   "cell_type": "markdown",
   "metadata": {},
   "source": [
    "# Testing"
   ]
  },
  {
   "cell_type": "code",
   "execution_count": 45,
   "metadata": {},
   "outputs": [
    {
     "name": "stdout",
     "output_type": "stream",
     "text": [
      "1e-09\n",
      "0.1\n",
      "0.01\n",
      "0.001\n",
      "0.0001\n",
      "1e-05\n",
      "1e-07\n",
      "0.8333333333333334\n",
      "0.1\n"
     ]
    }
   ],
   "source": [
    "\n",
    "alpha = 0\n",
    "list = [0.000000001, 0.1, 0.01 , 0.001 , 0.0001 , 0.00001 , 0.0000001 ]\n",
    "max =0\n",
    "for i in list:\n",
    "    #print(i)\n",
    "    model = LogisticRegressionFromScratch()\n",
    "    model.fit(x_train ,y_train  , i , 10000)\n",
    "    hx =model.predict(x_train , 0.5)\n",
    "    acc = sum(hx == y_train) / hx.shape[0]\n",
    "    if acc > max:\n",
    "        max = acc\n",
    "        alpha = i\n",
    "#model = LogisticRegressionFromScratch()\n",
    "model.fit(x_train , y_train , alpha , 10000)\n",
    "hx =model.predict(x_train , 0.5)\n",
    "acc = sum(hx == y_train) / hx.shape[0]\n",
    "\n",
    "print(acc)\n",
    "print(alpha)\n",
    "\n"
   ]
  }
 ],
 "metadata": {
  "kernelspec": {
   "display_name": "Python 3",
   "language": "python",
   "name": "python3"
  },
  "language_info": {
   "codemirror_mode": {
    "name": "ipython",
    "version": 3
   },
   "file_extension": ".py",
   "mimetype": "text/x-python",
   "name": "python",
   "nbconvert_exporter": "python",
   "pygments_lexer": "ipython3",
   "version": "3.8.1 (tags/v3.8.1:1b293b6, Dec 18 2019, 22:39:24) [MSC v.1916 32 bit (Intel)]"
  },
  "orig_nbformat": 4,
  "vscode": {
   "interpreter": {
    "hash": "1ea1bb99331e10e7e496a31bf4157556045a88212074203292dd30ac2bc817e2"
   }
  }
 },
 "nbformat": 4,
 "nbformat_minor": 2
}
